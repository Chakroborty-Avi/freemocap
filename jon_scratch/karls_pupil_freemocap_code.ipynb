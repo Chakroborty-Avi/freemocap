{
 "cells": [
  {
   "cell_type": "markdown",
   "metadata": {
    "pycharm": {
     "name": "#%% md\n"
    }
   },
   "source": [
    "\n",
    "# this is Jon's attempt to put Karl's `alignPupilFMC.py` into an jupyter notebook   "
   ]
  },
  {
   "cell_type": "markdown",
   "metadata": {
    "pycharm": {
     "name": "#%% md\n"
    }
   },
   "source": [
    "### import stuff"
   ]
  },
  {
   "cell_type": "code",
   "execution_count": 1,
   "metadata": {
    "pycharm": {
     "is_executing": true,
     "name": "#%%\n"
    }
   },
   "outputs": [
    {
     "name": "stdout",
     "output_type": "stream",
     "text": [
      "Requirement already satisfied: scipy in c:\\users\\jonma\\miniconda3\\envs\\humon-env\\lib\\site-packages (1.8.0)\n",
      "Requirement already satisfied: numpy<1.25.0,>=1.17.3 in c:\\users\\jonma\\miniconda3\\envs\\humon-env\\lib\\site-packages (from scipy) (1.22.3)\n",
      "Requirement already satisfied: pandas in c:\\users\\jonma\\miniconda3\\envs\\humon-env\\lib\\site-packages (1.4.2)\n",
      "Requirement already satisfied: pytz>=2020.1 in c:\\users\\jonma\\miniconda3\\envs\\humon-env\\lib\\site-packages (from pandas) (2022.1)\n",
      "Requirement already satisfied: python-dateutil>=2.8.1 in c:\\users\\jonma\\miniconda3\\envs\\humon-env\\lib\\site-packages (from pandas) (2.8.2)\n",
      "Requirement already satisfied: numpy>=1.18.5 in c:\\users\\jonma\\miniconda3\\envs\\humon-env\\lib\\site-packages (from pandas) (1.22.3)\n",
      "Requirement already satisfied: six>=1.5 in c:\\users\\jonma\\miniconda3\\envs\\humon-env\\lib\\site-packages (from python-dateutil>=2.8.1->pandas) (1.16.0)\n",
      "Requirement already satisfied: numpy in c:\\users\\jonma\\miniconda3\\envs\\humon-env\\lib\\site-packages (1.22.3)\n",
      "Requirement already satisfied: pyqt5 in c:\\users\\jonma\\miniconda3\\envs\\humon-env\\lib\\site-packages (5.15.6)\n",
      "Requirement already satisfied: PyQt5-Qt5>=5.15.2 in c:\\users\\jonma\\miniconda3\\envs\\humon-env\\lib\\site-packages (from pyqt5) (5.15.2)\n",
      "Requirement already satisfied: PyQt5-sip<13,>=12.8 in c:\\users\\jonma\\miniconda3\\envs\\humon-env\\lib\\site-packages (from pyqt5) (12.10.1)\n"
     ]
    }
   ],
   "source": [
    "!pip install scipy\n",
    "!pip install pandas\n",
    "!pip install numpy\n",
    "!pip install pyqt5"
   ]
  },
  {
   "cell_type": "code",
   "execution_count": 2,
   "metadata": {
    "pycharm": {
     "is_executing": true,
     "name": "#%%\n"
    }
   },
   "outputs": [],
   "source": [
    "\n",
    "import numpy as np\n",
    "import pandas as pd\n",
    "import json\n",
    "from pathlib import Path\n",
    "\n",
    "from scipy import optimize\n",
    "from scipy.spatial.transform import Rotation "
   ]
  },
  {
   "cell_type": "code",
   "execution_count": 3,
   "metadata": {
    "pycharm": {
     "is_executing": true,
     "name": "#%%\n"
    }
   },
   "outputs": [],
   "source": [
    "debug = True\n",
    "if debug:\n",
    "    %matplotlib qt\n",
    "    # %matplotlib \n",
    "    import matplotlib.pyplot as plt\n"
   ]
  },
  {
   "cell_type": "markdown",
   "metadata": {
    "pycharm": {
     "name": "#%% md\n"
    }
   },
   "source": [
    "### get yr paths right"
   ]
  },
  {
   "cell_type": "code",
   "execution_count": 4,
   "metadata": {
    "pycharm": {
     "is_executing": true,
     "name": "#%%\n"
    }
   },
   "outputs": [],
   "source": [
    "session_id = 'sesh_2022-02-15_11_54_28_pupil_maybe'\n",
    "freemocap_data_folder = Path('C:/Users/jonma/Dropbox/FreeMoCapProject/FreeMocap_Data')\n",
    "\n",
    "session_folder_path = freemocap_data_folder / session_id\n",
    "\n",
    "mediapipe_skeleton_data_path = session_folder_path / 'DataArrays'/ 'mediaPipeSkel_3d_smoothed.npy'\n",
    "mediapipe_head_rotations_path = session_folder_path / 'DataArrays'/ 'mediaPipeSkel_3d_head_rotation_matricies_fr_row_col.npy'\n",
    "\n",
    "pupil_data_path = session_folder_path / 'pupil_000'\n",
    "pupil_data_exports_path = pupil_data_path / 'exports' / '000'\n",
    "pupil_positions_path = pupil_data_exports_path / 'pupil_positions.csv'\n",
    "pupil_recording_info_path = pupil_data_path / 'info.player.json'\n",
    "\n",
    "freemocap_unix_timestamp_path = session_folder_path /'unix_synced_timestamps.csv'\n"
   ]
  },
  {
   "cell_type": "markdown",
   "metadata": {
    "pycharm": {
     "name": "#%% md\n"
    }
   },
   "source": [
    " ### load in data\n",
    "\n",
    "- full body 3d kinematic data - `mediapipe_skeleton_frame_mar_xyz`\n",
    "    - type: numpy array\n",
    "    - dimensions: [frame_number, tracked_point_number, dimension (xyz)]\n",
    "- pupil data from `pupil_positions.csv` in the **pupil exports** folder\n",
    "    - definitions in `pupil_gaze_positions_info.txt`\n",
    "- pupil start time from `info.player.json` for sync\n"
   ]
  },
  {
   "cell_type": "code",
   "execution_count": 5,
   "metadata": {
    "pycharm": {
     "is_executing": true,
     "name": "#%%\n"
    }
   },
   "outputs": [],
   "source": [
    "mediapipe_skeleton_fr_mar_xyz = np.load(mediapipe_skeleton_data_path)\n",
    "mediapipe_head_rotation_matricies_fr_row_col = np.load(mediapipe_head_rotations_path)\n",
    "pupil_dataframe = pd.read_csv(pupil_positions_path)\n",
    "pupil_recording_info_json = json.load(open(pupil_recording_info_path))\n",
    "freemocap_unix_timestamps_dataframe = pd.read_csv(freemocap_unix_timestamp_path)"
   ]
  },
  {
   "cell_type": "markdown",
   "metadata": {
    "pycharm": {
     "name": "#%% md\n"
    }
   },
   "source": [
    "### pull out relevant pupil data"
   ]
  },
  {
   "cell_type": "markdown",
   "metadata": {
    "pycharm": {
     "name": "#%% md\n"
    }
   },
   "source": [
    "data for both eyes"
   ]
  },
  {
   "cell_type": "code",
   "execution_count": 6,
   "metadata": {
    "pycharm": {
     "is_executing": true,
     "name": "#%%\n"
    }
   },
   "outputs": [],
   "source": [
    "\n",
    "timestamps = np.array(pupil_dataframe['pupil_timestamp'])\n",
    "eye_theta = np.array(pupil_dataframe['theta'])\n",
    "eye_phi = np.array(pupil_dataframe['phi'])\n",
    "sphere_center_x = np.array(pupil_dataframe['sphere_center_x'])\n",
    "sphere_center_y = np.array(pupil_dataframe['sphere_center_y'])\n",
    "sphere_center_z = np.array(pupil_dataframe['sphere_center_z'])\n",
    "pupil_center_normal_x = np.array(pupil_dataframe['circle_3d_normal_x'])\n",
    "pupil_center_normal_y = np.array(pupil_dataframe['circle_3d_normal_y'])\n",
    "pupil_center_normal_z = np.array(pupil_dataframe['circle_3d_normal_z'])\n",
    "\n",
    "eye_d = pupil_dataframe['eye_id']\n",
    "method = pupil_dataframe['method']\n",
    "# tracking_method_name = 'pye3d 0.3.0 real-time'\n",
    "\n",
    "\n"
   ]
  },
  {
   "cell_type": "markdown",
   "metadata": {
    "pycharm": {
     "name": "#%% md\n"
    }
   },
   "source": [
    "get data for the right eye\n",
    "\n",
    "pull out data according to `eye_d` (right_eye == 0) and tracking method (because pupil interleaves 2d and 3d data)"
   ]
  },
  {
   "cell_type": "code",
   "execution_count": 7,
   "metadata": {
    "pycharm": {
     "is_executing": true,
     "name": "#%%\n"
    }
   },
   "outputs": [],
   "source": [
    "right_eye_d = 0 \n",
    "\n",
    "#timestamps\n",
    "r_eye_timestamps_og = timestamps[np.logical_and(eye_d==right_eye_d, method!='2d c++')]\n",
    "\n",
    "r_eye_theta = eye_theta[np.logical_and(eye_d==right_eye_d, method!='2d c++')]\n",
    "r_eye_phi = eye_phi[np.logical_and(eye_d==right_eye_d, method!='2d c++')]\n",
    "\n",
    "r_eye_sphere_center_x = sphere_center_x[np.logical_and(eye_d==right_eye_d, method!='2d c++')]\n",
    "r_eye_sphere_center_y = sphere_center_y[np.logical_and(eye_d==right_eye_d, method!='2d c++')]\n",
    "r_eye_sphere_center_z = sphere_center_z[np.logical_and(eye_d==right_eye_d, method!='2d c++')]\n",
    "\n",
    "r_eye_pupil_center_normal_x = pupil_center_normal_x[np.logical_and(eye_d==right_eye_d, method!='2d c++')]\n",
    "r_eye_pupil_center_normal_y = pupil_center_normal_y[np.logical_and(eye_d==right_eye_d, method!='2d c++')]\n",
    "r_eye_pupil_center_normal_z = pupil_center_normal_z[np.logical_and(eye_d==right_eye_d, method!='2d c++')]\n"
   ]
  },
  {
   "cell_type": "markdown",
   "metadata": {
    "pycharm": {
     "name": "#%% md\n"
    }
   },
   "source": [
    "Get data for the left eye\n",
    "\n",
    "pull out data according to `eye_d` (left eye == 1) and tracking method (because pupil interleaves 2d and 3d data)"
   ]
  },
  {
   "cell_type": "code",
   "execution_count": 8,
   "metadata": {
    "pycharm": {
     "is_executing": true,
     "name": "#%%\n"
    }
   },
   "outputs": [],
   "source": [
    "left_eye_d = 1 \n",
    "\n",
    "#timestamps\n",
    "l_eye_timestamps_og = timestamps[np.logical_and(eye_d==left_eye_d, method!='2d c++')]\n",
    "\n",
    "l_eye_theta = eye_theta[np.logical_and(eye_d==left_eye_d, method!='2d c++')]\n",
    "l_eye_phi = eye_phi[np.logical_and(eye_d==left_eye_d, method!='2d c++')]\n",
    "\n",
    "l_eye_sphere_center_x = sphere_center_x[np.logical_and(eye_d==left_eye_d, method!='2d c++')]\n",
    "l_eye_sphere_center_y = sphere_center_y[np.logical_and(eye_d==left_eye_d, method!='2d c++')]\n",
    "l_eye_sphere_center_z = sphere_center_z[np.logical_and(eye_d==left_eye_d, method!='2d c++')]\n",
    "\n",
    "l_eye_pupil_center_normal_x = pupil_center_normal_x[np.logical_and(eye_d==left_eye_d, method!='2d c++')]\n",
    "l_eye_pupil_center_normal_y = pupil_center_normal_y[np.logical_and(eye_d==left_eye_d, method!='2d c++')]\n",
    "l_eye_pupil_center_normal_z = pupil_center_normal_z[np.logical_and(eye_d==left_eye_d, method!='2d c++')]\n"
   ]
  },
  {
   "cell_type": "code",
   "execution_count": 9,
   "metadata": {
    "pycharm": {
     "is_executing": true,
     "name": "#%%\n"
    }
   },
   "outputs": [],
   "source": [
    "if debug:\n",
    "    fig = plt.figure(num=2134,figsize=(10,10))\n",
    "    \n",
    "    ax1 = fig.add_subplot(321)\n",
    "    ax1.plot(r_eye_timestamps_og, r_eye_theta, '.-', label='r eye theta')\n",
    "    ax1.plot(r_eye_timestamps_og, r_eye_phi, '.-', label='r eye phi')\n",
    "\n",
    "    ax1.legend(loc='upper right')\n",
    "    \n",
    "    ax3 = fig.add_subplot(323)\n",
    "    ax3.plot(r_eye_timestamps_og, r_eye_pupil_center_normal_x, '.-', label='r_eye_pupil_center_normal_x')\n",
    "    ax3.plot(r_eye_timestamps_og, r_eye_pupil_center_normal_y, '.-', label='r_eye_pupil_center_normal_y')\n",
    "    ax3.plot(r_eye_timestamps_og, r_eye_pupil_center_normal_z, '.-', label='r_eye_pupil_center_normal_z')\n",
    "    ax3.legend(loc='upper right')\n",
    "\n",
    "    ax5 = fig.add_subplot(325)\n",
    "    ax5.plot(r_eye_timestamps_og, r_eye_sphere_center_x, '.-', label='r_eye_sphere_center_x')\n",
    "    ax5.plot(r_eye_timestamps_og, r_eye_sphere_center_y, '.-', label='r_eye_sphere_center_y')\n",
    "    ax5.plot(r_eye_timestamps_og, r_eye_sphere_center_z, '.-', label='r_eye_sphere_center_z')\n",
    "    ax5.legend(loc='upper right')\n",
    "\n",
    "    \n",
    "    ax2 = fig.add_subplot(322)\n",
    "    ax2.plot(l_eye_timestamps_og, l_eye_theta, '.-', label='l eye theta')\n",
    "    ax2.plot(l_eye_timestamps_og, l_eye_phi, '.-', label='l eye phi')\n",
    "    ax2.legend(loc='upper right')\n",
    "    \n",
    "    ax4 = fig.add_subplot(324)\n",
    "    ax4.plot(l_eye_timestamps_og, l_eye_pupil_center_normal_x, '.-', label='l_eye_pupil_center_normal_x')\n",
    "    ax4.plot(l_eye_timestamps_og, l_eye_pupil_center_normal_y, '.-', label='l_eye_pupil_center_normal_y')\n",
    "    ax4.plot(l_eye_timestamps_og, l_eye_pupil_center_normal_z, '.-', label='l_eye_pupil_center_normal_z')\n",
    "    ax4.legend(loc='upper right')\n",
    "\n",
    "    ax6 = fig.add_subplot(326)\n",
    "    ax6.plot(l_eye_timestamps_og, l_eye_sphere_center_x, '.-', label='l_eye_sphere_center_x')\n",
    "    ax6.plot(l_eye_timestamps_og, l_eye_sphere_center_y, '.-', label='l_eye_sphere_center_y')\n",
    "    ax6.plot(l_eye_timestamps_og, l_eye_sphere_center_z, '.-', label='l_eye_sphere_center_z')\n",
    "\n",
    "    plt.pause(.1)\n",
    "    plt.show()\n"
   ]
  },
  {
   "cell_type": "markdown",
   "metadata": {
    "pycharm": {
     "name": "#%% md\n"
    }
   },
   "source": [
    "### create XYZ gaze array\n",
    "\n",
    "\n",
    "subtract eyeball center from pupil center to re-base the gaze vector to the origin  "
   ]
  },
  {
   "cell_type": "markdown",
   "metadata": {
    "pycharm": {
     "name": "#%% md\n"
    }
   },
   "source": [
    "skipping 'remove nans' step for now, but i might need to add it later? "
   ]
  },
  {
   "cell_type": "markdown",
   "metadata": {
    "pycharm": {
     "name": "#%% md\n"
    }
   },
   "source": [
    "### synchronize pupil and freemocap timestamps "
   ]
  },
  {
   "cell_type": "markdown",
   "metadata": {
    "pycharm": {
     "name": "#%% md\n"
    }
   },
   "source": [
    "#### convert pupil timestamps into unix time"
   ]
  },
  {
   "cell_type": "code",
   "execution_count": 10,
   "metadata": {
    "pycharm": {
     "is_executing": true,
     "name": "#%%\n"
    }
   },
   "outputs": [],
   "source": [
    "r_eye_timestamps =  r_eye_timestamps_og - pupil_recording_info_json['start_time_synced_s'] +pupil_recording_info_json['start_time_system_s'] \n",
    "l_eye_timestamps =  l_eye_timestamps_og - pupil_recording_info_json['start_time_synced_s'] +pupil_recording_info_json['start_time_system_s'] \n",
    "\n"
   ]
  },
  {
   "cell_type": "markdown",
   "metadata": {
    "pycharm": {
     "name": "#%% md\n"
    }
   },
   "source": [
    "calculate freemocap unix timestamps (as mean of each camera's timestamp on each frame)"
   ]
  },
  {
   "cell_type": "code",
   "execution_count": 11,
   "metadata": {
    "pycharm": {
     "is_executing": true,
     "name": "#%%\n"
    }
   },
   "outputs": [],
   "source": [
    "\n",
    "each_cam_timestamps_list = []\n",
    "\n",
    "camera_names = [column_name for column_name in list(freemocap_unix_timestamps_dataframe.columns) if 'Cam' in column_name]\n",
    "\n",
    "for this_camera_name in camera_names:\n",
    "    each_cam_timestamps_list.append(np.array(freemocap_unix_timestamps_dataframe[this_camera_name]))\n",
    "    \n",
    "cameras_timestamp_array = np.stack(each_cam_timestamps_list,axis=1)\n",
    "cameras_timestamp_array[cameras_timestamp_array==-1]=np.nan #replace -1 with nan\n",
    "\n",
    "freemocap_timestamps = np.nanmean(cameras_timestamp_array,axis=1)\n",
    "\n",
    "freemocap_frame_durations = np.diff(freemocap_timestamps)\n",
    "freemocap_frames_per_second = np.nanmean(freemocap_frame_durations**-1)\n"
   ]
  },
  {
   "cell_type": "code",
   "execution_count": 12,
   "metadata": {
    "pycharm": {
     "is_executing": true,
     "name": "#%%\n"
    }
   },
   "outputs": [],
   "source": [
    "if debug:\n",
    "\n",
    "    timestamp_diff_on_each_frame_rel_cam0 = np.diff(cameras_timestamp_array, axis=1)\n",
    "    frame_duration = np.diff(freemocap_timestamps)\n",
    "\n",
    "    fig = plt.figure(234899234)\n",
    "    ax1 =  fig.add_subplot(411)\n",
    "    ax1.plot(cameras_timestamp_array, '.-',label='each cam')\n",
    "    ax1.plot(freemocap_timestamps, 'r-',label='freemocap_timestamps')\n",
    "    ax1.set_title('cameras_timestamps')\n",
    "    ax1.set_xlabel('frame number')\n",
    "    ax1.set_ylabel('timestamp')\n",
    "    ax1.legend(loc='upper left')\n",
    "    \n",
    "    ax2 =  fig.add_subplot(412)\n",
    "    for this_cam_num in range(timestamp_diff_on_each_frame_rel_cam0.shape[1]):\n",
    "        ax2.hist(timestamp_diff_on_each_frame_rel_cam0[:,this_cam_num], label=f'camera {this_cam_num}', alpha=0.5)\n",
    "    ax2.set_xlim(-.1,.1)\n",
    "    ax2.set_xlabel('timestamp diff on each frame (s)')\n",
    "    ax2.legend()\n",
    "\n",
    "    ax3 =  fig.add_subplot(413)\n",
    "    ax3.plot(freemocap_frame_durations, '.-',label='frame duration')\n",
    "    ax3.plot([0, len(freemocap_frame_durations)],\n",
    "            [np.nanmean(freemocap_frame_durations), np.nanmean(freemocap_frame_durations)],\n",
    "            'r-',\n",
    "            label=f'mean frame duration (ms):{str(np.nanmean(freemocap_frame_durations)*1000)[:5]}',\n",
    "            )\n",
    "    ax3.legend(loc='upper left')\n",
    "    ax3.set_xlabel('frame number')\n",
    "    ax3.set_ylabel('frame duration (s)')\n",
    "\n",
    "    ax4 =  fig.add_subplot(414)\n",
    "    ax4.hist(freemocap_frame_durations**-1, label='frame duration')\n",
    "    ax4.legend(loc='upper left')\n",
    "    ax4.set_xlabel('frame rate (frames per second')\n",
    "    ax4.set_xlim(0,50)\n",
    "    \n",
    "    plt.pause(.1)\n",
    "    plt.show()"
   ]
  },
  {
   "cell_type": "code",
   "execution_count": 13,
   "metadata": {
    "pycharm": {
     "is_executing": true,
     "name": "#%%\n"
    }
   },
   "outputs": [
    {
     "name": "stdout",
     "output_type": "stream",
     "text": [
      "freemocap_timestamps[-1]: 1644944570.8511524\n",
      "r_eye_timestamps[-1]: 1644944575.0656984\n"
     ]
    },
    {
     "data": {
      "text/plain": [
       "1644944570.8511524"
      ]
     },
     "execution_count": 13,
     "metadata": {},
     "output_type": "execute_result"
    }
   ],
   "source": [
    "print(f'freemocap_timestamps[-1]: {freemocap_timestamps[-1]}')\n",
    "print(f'r_eye_timestamps[-1]: {r_eye_timestamps[-1]}')\n",
    "\n",
    "np.min((freemocap_timestamps[-1],r_eye_timestamps[-1]))"
   ]
  },
  {
   "cell_type": "markdown",
   "metadata": {
    "pycharm": {
     "name": "#%% md\n"
    }
   },
   "source": [
    "#### align freemocap and pupil timestamps and clip the starts and ends of the various data traces so that everything covers the same timespacn"
   ]
  },
  {
   "cell_type": "code",
   "execution_count": 14,
   "metadata": {
    "pycharm": {
     "is_executing": true,
     "name": "#%%\n"
    }
   },
   "outputs": [],
   "source": [
    "\n",
    "#find start and end frames shared by all datastreams\n",
    "start_time_unix = np.max((freemocap_timestamps[0],r_eye_timestamps[0], l_eye_timestamps[0]))\n",
    "end_time_unix = np.min((freemocap_timestamps[-1],r_eye_timestamps[-1], l_eye_timestamps[-1]))\n",
    "\n",
    "#freemocap\n",
    "if any(freemocap_timestamps>=start_time_unix):\n",
    "    freemocap_start = np.where(freemocap_timestamps>=start_time_unix)[0][0]\n",
    "else:\n",
    "    freemocap_start = 0\n",
    "\n",
    "if any(freemocap_timestamps<=end_time_unix):\n",
    "    freemocap_end = np.where(freemocap_timestamps<=end_time_unix)[0][-1]\n",
    "else:\n",
    "    freemocap_end = len(freemocap_timestamps)\n",
    "\n",
    "#right eye\n",
    "if any(r_eye_timestamps>=start_time_unix):\n",
    "    r_eye_start = np.where(r_eye_timestamps>=start_time_unix)[0][0]\n",
    "else:\n",
    "    r_eye_start = 0\n",
    "    \n",
    "if any(r_eye_timestamps<=end_time_unix):\n",
    "    r_eye_end = np.where(r_eye_timestamps<=end_time_unix)[0][-1]\n",
    "else:\n",
    "    r_eye_end = len(r_eye_timestamps)\n",
    "\n",
    "#left eye\n",
    "if any(l_eye_timestamps>=start_time_unix):\n",
    "    l_eye_start = np.where(l_eye_timestamps>=start_time_unix)[0][0]\n",
    "else:\n",
    "    l_eye_start = 0\n",
    "    \n",
    "if any(l_eye_timestamps<=end_time_unix):\n",
    "    l_eye_end = np.where(l_eye_timestamps<=end_time_unix)[0][-1]\n",
    "else:\n",
    "    l_eye_end = len(l_eye_timestamps)\n",
    "\n",
    "#rebase time onto freemocap's framerate (b/c it's slower than pupil) <- sloppy, assumes mocap slower than eye tracker, which is untrue for say GoPros\n",
    "new_timestamps = np.arange(start_time_unix,end_time_unix,1/freemocap_frames_per_second) \n",
    "\n",
    "\n",
    "freemocap_timestamps = freemocap_timestamps[freemocap_start:freemocap_end]\n",
    "r_eye_timestamps = r_eye_timestamps[r_eye_start:r_eye_end]\n",
    "l_eye_timestamps = l_eye_timestamps[l_eye_start:l_eye_end]\n",
    "\n"
   ]
  },
  {
   "cell_type": "markdown",
   "metadata": {
    "pycharm": {
     "name": "#%% md\n"
    }
   },
   "source": [
    "clip out portions of each eye's data stream that correspond to the shared time period\n",
    "\n",
    "(I appear to be skiping the freemocap data, which might cause fail on other recordings?)"
   ]
  },
  {
   "cell_type": "code",
   "execution_count": 15,
   "metadata": {
    "pycharm": {
     "is_executing": true,
     "name": "#%%\n"
    }
   },
   "outputs": [],
   "source": [
    "r_eye_sphere_center_x = r_eye_sphere_center_x[r_eye_start:r_eye_end]\n",
    "r_eye_sphere_center_y = r_eye_sphere_center_y[r_eye_start:r_eye_end]\n",
    "r_eye_sphere_center_z = r_eye_sphere_center_z[r_eye_start:r_eye_end]\n",
    "\n",
    "r_eye_pupil_center_normal_x = r_eye_pupil_center_normal_x[r_eye_start:r_eye_end]\n",
    "r_eye_pupil_center_normal_y = r_eye_pupil_center_normal_y[r_eye_start:r_eye_end]\n",
    "r_eye_pupil_center_normal_z = r_eye_pupil_center_normal_z[r_eye_start:r_eye_end]"
   ]
  },
  {
   "cell_type": "code",
   "execution_count": 16,
   "metadata": {
    "pycharm": {
     "is_executing": true,
     "name": "#%%\n"
    }
   },
   "outputs": [],
   "source": [
    "l_eye_sphere_center_x = l_eye_sphere_center_x[l_eye_start:l_eye_end]\n",
    "l_eye_sphere_center_y = l_eye_sphere_center_y[l_eye_start:l_eye_end]\n",
    "l_eye_sphere_center_z = l_eye_sphere_center_z[l_eye_start:l_eye_end]\n",
    "\n",
    "l_eye_pupil_center_normal_x = l_eye_pupil_center_normal_x[l_eye_start:l_eye_end]\n",
    "l_eye_pupil_center_normal_y = l_eye_pupil_center_normal_y[l_eye_start:l_eye_end]\n",
    "l_eye_pupil_center_normal_z = l_eye_pupil_center_normal_z[l_eye_start:l_eye_end]"
   ]
  },
  {
   "cell_type": "markdown",
   "metadata": {
    "pycharm": {
     "name": "#%% md\n"
    }
   },
   "source": [
    "create r_eye_gaze_xyz : the direction the eye is pointing *in head centered coordinates*"
   ]
  },
  {
   "cell_type": "code",
   "execution_count": 17,
   "metadata": {
    "pycharm": {
     "is_executing": true,
     "name": "#%%\n"
    }
   },
   "outputs": [
    {
     "name": "stdout",
     "output_type": "stream",
     "text": [
      "r_eye_gaze_xyz_og.shape: (17737, 3)\n"
     ]
    }
   ],
   "source": [
    "r_eye_gaze_x = r_eye_pupil_center_normal_x\n",
    "r_eye_gaze_y = r_eye_pupil_center_normal_y\n",
    "r_eye_gaze_z = r_eye_pupil_center_normal_z\n",
    "\n",
    "r_eye_gaze_xyz_og = np.vstack((r_eye_gaze_x, r_eye_gaze_y, r_eye_gaze_z)).T\n",
    "\n",
    "print(f'r_eye_gaze_xyz_og.shape: {r_eye_gaze_xyz_og.shape}')"
   ]
  },
  {
   "cell_type": "code",
   "execution_count": 18,
   "metadata": {
    "pycharm": {
     "is_executing": true,
     "name": "#%%\n"
    }
   },
   "outputs": [
    {
     "name": "stdout",
     "output_type": "stream",
     "text": [
      "l_eye_gaze_xyz_og.shape: (16324, 3)\n"
     ]
    }
   ],
   "source": [
    "l_eye_gaze_x = l_eye_pupil_center_normal_x\n",
    "l_eye_gaze_y = l_eye_pupil_center_normal_y\n",
    "l_eye_gaze_z = l_eye_pupil_center_normal_z\n",
    "\n",
    "l_eye_gaze_xyz_og = np.vstack((l_eye_gaze_x, l_eye_gaze_y, l_eye_gaze_z)).T\n",
    "\n",
    "print(f'l_eye_gaze_xyz_og.shape: {l_eye_gaze_xyz_og.shape}')"
   ]
  },
  {
   "cell_type": "markdown",
   "metadata": {
    "pycharm": {
     "name": "#%% md\n"
    }
   },
   "source": [
    "#### resample gaze and skeleton data so that each has the same number of frames\n",
    "\n",
    "resample pupil data onto freemocap timestamps"
   ]
  },
  {
   "cell_type": "code",
   "execution_count": 19,
   "metadata": {
    "pycharm": {
     "is_executing": true,
     "name": "#%%\n"
    }
   },
   "outputs": [],
   "source": [
    "\n",
    "r_eye_gaze_xyz = np.zeros((len(freemocap_timestamps),3))\n",
    "l_eye_gaze_xyz = np.zeros((len(freemocap_timestamps),3))\n",
    "\n",
    "for this_dimension in range(3): #loop over the X Y and Z simensions and resample to new timestamps\n",
    "    r_eye_gaze_xyz[:,this_dimension] = np.interp(freemocap_timestamps,\n",
    "                                        r_eye_timestamps,\n",
    "                                        r_eye_gaze_xyz_og[:,this_dimension])\n",
    "    l_eye_gaze_xyz[:,this_dimension] = np.interp(freemocap_timestamps,\n",
    "                                        l_eye_timestamps,\n",
    "                                        l_eye_gaze_xyz_og[:,this_dimension])\n"
   ]
  },
  {
   "cell_type": "code",
   "execution_count": 20,
   "metadata": {
    "pycharm": {
     "is_executing": true,
     "name": "#%%\n"
    }
   },
   "outputs": [],
   "source": [
    "r_eye_gaze_xyz = r_eye_gaze_xyz/np.linalg.norm(r_eye_gaze_xyz,axis=1,ord=2)[:,None]\n",
    "l_eye_gaze_xyz = l_eye_gaze_xyz/np.linalg.norm(l_eye_gaze_xyz,axis=1,ord=2)[:,None]\n"
   ]
  },
  {
   "cell_type": "markdown",
   "metadata": {
    "pycharm": {
     "name": "#%% md\n"
    }
   },
   "source": [
    "# snip off the first frame of the freemocap data becuase there is a -> BUG <- such that there are one fewer timestamp than there are recorded frames. \n",
    "\n",
    "V V V V V V"
   ]
  },
  {
   "cell_type": "code",
   "execution_count": 21,
   "metadata": {
    "pycharm": {
     "is_executing": true,
     "name": "#%%\n"
    }
   },
   "outputs": [],
   "source": [
    "if r_eye_gaze_xyz.shape[0] != mediapipe_skeleton_fr_mar_xyz.shape[0]:\n",
    "    mediapipe_skeleton_fr_mar_xyz = np.delete(mediapipe_skeleton_fr_mar_xyz, 0, axis=0)\n",
    "    mediapipe_head_rotation_matricies_fr_row_col = np.delete(mediapipe_head_rotation_matricies_fr_row_col, 0, axis=0)\n",
    "# DOESN'T BOTHER ME AT ALL HAHA"
   ]
  },
  {
   "cell_type": "markdown",
   "metadata": {
    "pycharm": {
     "name": "#%% md\n"
    }
   },
   "source": [
    "These should all have the exact same number of frame"
   ]
  },
  {
   "cell_type": "code",
   "execution_count": 22,
   "metadata": {
    "pycharm": {
     "is_executing": true,
     "name": "#%%\n"
    }
   },
   "outputs": [
    {
     "name": "stdout",
     "output_type": "stream",
     "text": [
      "r_eye_gaze_xyz.shape: (4915, 3)\n",
      "l_eye_gaze_xyz.shape: (4915, 3)\n",
      "mediapipe_skeleton_fr_mar_xyz.shape: (4915, 543, 3)\n",
      "mediapipe_head_rotation_matricies_fr_row_col.shape: (4915, 3, 3)\n"
     ]
    }
   ],
   "source": [
    "print(f'r_eye_gaze_xyz.shape: {r_eye_gaze_xyz.shape}')\n",
    "print(f'l_eye_gaze_xyz.shape: {l_eye_gaze_xyz.shape}')\n",
    "print(f'mediapipe_skeleton_fr_mar_xyz.shape: {mediapipe_skeleton_fr_mar_xyz.shape}')\n",
    "print(f'mediapipe_head_rotation_matricies_fr_row_col.shape: {mediapipe_head_rotation_matricies_fr_row_col.shape}')"
   ]
  },
  {
   "cell_type": "code",
   "execution_count": 23,
   "metadata": {
    "pycharm": {
     "is_executing": true,
     "name": "#%%\n"
    }
   },
   "outputs": [
    {
     "name": "stderr",
     "output_type": "stream",
     "text": [
      "No artists with labels found to put in legend.  Note that artists whose label start with an underscore are ignored when legend() is called with no argument.\n"
     ]
    }
   ],
   "source": [
    "if debug:\n",
    "    fig = plt.figure(num=65341,figsize=(10,20))\n",
    "    ax1 = fig.add_subplot(211)\n",
    "    ax1.plot(freemocap_timestamps, r_eye_gaze_xyz[:,0], '.-', label='r_eye_gaze_x')\n",
    "    ax1.plot(freemocap_timestamps, r_eye_gaze_xyz[:,1], '.-', label='r_eye_gaze_y')\n",
    "    ax1.plot(freemocap_timestamps, r_eye_gaze_xyz[:,2], '.-', label='r_eye_gaze_z')\n",
    "    ax1.legend(loc='upper left')\n",
    "    \n",
    "    ax2 = fig.add_subplot(212)\n",
    "    ax2.plot(freemocap_timestamps, l_eye_gaze_xyz[:,0], '.-', label='_eye_gaze_x')\n",
    "    ax2.plot(freemocap_timestamps, l_eye_gaze_xyz[:,1], '.-', label='_eye_gaze_y')\n",
    "    ax2.plot(freemocap_timestamps, l_eye_gaze_xyz[:,2], '.-', label='_eye_gaze_z')\n",
    "    ax2.legend(loc='upper left')\n",
    "    plt.show()\n",
    "\n"
   ]
  },
  {
   "cell_type": "markdown",
   "metadata": {
    "pycharm": {
     "name": "#%% md\n"
    }
   },
   "source": [
    "normalize gaze vector to unit length"
   ]
  },
  {
   "cell_type": "markdown",
   "metadata": {
    "pycharm": {
     "name": "#%% md\n"
    }
   },
   "source": [
    "save out `npy` of gaze_xyz data"
   ]
  },
  {
   "cell_type": "markdown",
   "metadata": {
    "pycharm": {
     "name": "#%% md\n"
    }
   },
   "source": [
    "Smooth a bit with savitsky golay filter"
   ]
  },
  {
   "cell_type": "code",
   "execution_count": 24,
   "metadata": {
    "pycharm": {
     "is_executing": true,
     "name": "#%%\n"
    }
   },
   "outputs": [],
   "source": [
    "from scipy.signal import savgol_filter\n",
    "\n",
    "smoothWinLength = 5\n",
    "smoothOrder = 3\n",
    "for dim in range(r_eye_gaze_xyz.shape[1]):\n",
    "        r_eye_gaze_xyz[:,dim] = savgol_filter(r_eye_gaze_xyz[:,dim], smoothWinLength, smoothOrder)\n",
    "        l_eye_gaze_xyz[:,dim] = savgol_filter(l_eye_gaze_xyz[:,dim], smoothWinLength, smoothOrder)\n",
    "\n",
    "\n",
    "# #reorient gaze (I think because it comes in in image coordiates? not really sure )\n",
    "# r_eye_gaze_xyz[:,1] = -r_eye_gaze_xyz[:,1]\n",
    "# r_eye_gaze_xyz[:,(0,2)] = r_eye_gaze_xyz[:,(2,0)]\n",
    "\n",
    "# l_eye_gaze_xyz[:,1] = -l_eye_gaze_xyz[:,1]\n",
    "# l_eye_gaze_xyz[:,(0,2)] = l_eye_gaze_xyz[:,(2,0)]"
   ]
  },
  {
   "cell_type": "code",
   "execution_count": 25,
   "metadata": {
    "pycharm": {
     "is_executing": true,
     "name": "#%%\n"
    }
   },
   "outputs": [],
   "source": [
    "r_gaze_xyz_npy_save_path = pupil_data_exports_path / 'right_eye_gaze_xyz_synchronized_w_freemocap_uncalibrated.npy'\n",
    "np.save(r_gaze_xyz_npy_save_path, r_eye_gaze_xyz)\n",
    "\n",
    "l_gaze_xyz_npy_save_path = pupil_data_exports_path / 'left_eye_gaze_xyz_synchronized_w_freemocap_uncalibrated.npy'\n",
    "np.save(l_gaze_xyz_npy_save_path, l_eye_gaze_xyz)\n"
   ]
  },
  {
   "cell_type": "markdown",
   "metadata": {
    "pycharm": {
     "name": "#%% md\n"
    }
   },
   "source": [
    "# VOR Calibration"
   ]
  },
  {
   "cell_type": "markdown",
   "metadata": {
    "pycharm": {
     "name": "#%% md\n"
    }
   },
   "source": [
    "# prep data for VOR calibration\n",
    "\n",
    "we'll be finding a rotational offset such that gaze_xyz rotated-by-the offset-then-rotated-by-head-orientation will align with the fixation point\n",
    "\n",
    " so we want to put the fixation point (in this case the right index finger in a eyeball-centered reference frame (i.e. where `r_eye_xyz` is at `(0,0,0)`)"
   ]
  },
  {
   "cell_type": "code",
   "execution_count": 26,
   "metadata": {
    "collapsed": false,
    "pycharm": {
     "name": "#%%\n"
    }
   },
   "outputs": [
    {
     "name": "stdout",
     "output_type": "stream",
     "text": [
      "head_rotation_martices_fr_row_col.shape: (4915, 3, 3)\n",
      "r_eye_gaze_xyz.shape: (4915, 3)\n",
      "fixation_point_xyz.shape: (4915, 3)\n"
     ]
    }
   ],
   "source": [
    "vor_frame_start =1000\n",
    "vor_frame_end = 1400\n",
    "\n",
    "right_index_fingertip_idx = 41 # pretty sure this is right?\n",
    "r_eye_idx = 5\n",
    "\n",
    "fixation_point_xyz = np.squeeze(mediapipe_skeleton_fr_mar_xyz[:, right_index_fingertip_idx, :])\n",
    "r_eyeball_center_xyz = np.squeeze(mediapipe_skeleton_fr_mar_xyz[:, r_eye_idx, :])\n",
    "#make sure everyone is the right size and shape\n",
    "print(f'head_rotation_martices_fr_row_col.shape: {mediapipe_head_rotation_matricies_fr_row_col.shape}')\n",
    "print(f'r_eye_gaze_xyz.shape: {r_eye_gaze_xyz.shape}')\n",
    "print(f'fixation_point_xyz.shape: {fixation_point_xyz.shape}')\n"
   ]
  },
  {
   "cell_type": "code",
   "execution_count": 27,
   "metadata": {
    "collapsed": false,
    "pycharm": {
     "name": "#%%\n"
    }
   },
   "outputs": [
    {
     "data": {
      "text/plain": [
       "array([[-140.99623459,  371.93667349, -908.18373013],\n",
       "       [-162.83809499,  344.26373174, -912.30887986],\n",
       "       [-165.73504142,  346.97592809, -911.18040645],\n",
       "       ...,\n",
       "       [-104.44826484,  -31.40865991, -522.0636855 ],\n",
       "       [-101.70694275,  -47.25579649, -518.36201151],\n",
       "       [-102.06426831,  -55.07294944, -524.55510472]])"
      ]
     },
     "execution_count": 27,
     "metadata": {},
     "output_type": "execute_result"
    }
   ],
   "source": [
    "\n",
    "fixation_point_during_vor_xyz = mediapipe_skeleton_fr_mar_xyz[vor_frame_start:vor_frame_end, right_index_fingertip_idx, :]\n",
    "r_eyeball_center_during_vor_xyz = mediapipe_skeleton_fr_mar_xyz[vor_frame_start:vor_frame_end, r_eye_idx, :]\n",
    "\n",
    "fixation_point_in_r_eyeball_coordinates_fr_xyz = r_eyeball_center_during_vor_xyz - fixation_point_during_vor_xyz #Subtract the-thing-that-will-be-at-origin from the-other-things to put other-things in ## thing-that-will-be-at-origin-centered-reference-frame\n",
    "fixation_point_distance_xyz = np.squeeze(np.linalg.norm(fixation_point_in_r_eyeball_coordinates_fr_xyz,axis=1,ord=2)[:,None])\n",
    "\n",
    "\n",
    "\n",
    "r_gaze_during_vor_fr_xyz = r_eye_gaze_xyz[vor_frame_start:vor_frame_end]\n",
    "r_gaze_during_vor_fr_xyz[:,0] = r_gaze_during_vor_fr_xyz[:,0] * fixation_point_distance_xyz #scale gaze vector to reach fixation point\n",
    "r_gaze_during_vor_fr_xyz[:,1] = r_gaze_during_vor_fr_xyz[:,1] * fixation_point_distance_xyz #scale gaze vector to reach fixation point\n",
    "r_gaze_during_vor_fr_xyz[:,2] = r_gaze_during_vor_fr_xyz[:,2] * fixation_point_distance_xyz #scale gaze vector to reach fixation point\n",
    "r_gaze_during_vor_fr_xyz"
   ]
  },
  {
   "cell_type": "code",
   "execution_count": 28,
   "metadata": {
    "collapsed": false,
    "pycharm": {
     "name": "#%%\n"
    }
   },
   "outputs": [
    {
     "name": "stdout",
     "output_type": "stream",
     "text": [
      "head_rotation_matrices_during_vor_fr_row_col.shape: (400, 3, 3)\n",
      "r_gaze_during_vor_xyz.shape: (400, 3)\n",
      "fixation_point_in_r_eyeball_coordinates_xyz.shape: (400, 3)\n"
     ]
    }
   ],
   "source": [
    "\n",
    "head_rotation_matrices_during_vor_fr_row_col = mediapipe_head_rotation_matricies_fr_row_col[vor_frame_start:vor_frame_end, :, :]\n",
    "\n",
    "#make sure everyone is the right size and shape\n",
    "print(f'head_rotation_matrices_during_vor_fr_row_col.shape: {head_rotation_matrices_during_vor_fr_row_col.shape}')\n",
    "print(f'r_gaze_during_vor_xyz.shape: {r_gaze_during_vor_fr_xyz.shape}')\n",
    "print(f'fixation_point_in_r_eyeball_coordinates_xyz.shape: {fixation_point_in_r_eyeball_coordinates_fr_xyz.shape}')\n"
   ]
  },
  {
   "cell_type": "markdown",
   "metadata": {
    "collapsed": false,
    "pycharm": {
     "name": "#%% md\n"
    }
   },
   "source": [
    "put mediapipe skel into eyeball centered coordinates (for debugging)"
   ]
  },
  {
   "cell_type": "code",
   "execution_count": 29,
   "metadata": {
    "collapsed": false,
    "pycharm": {
     "name": "#%%\n"
    }
   },
   "outputs": [
    {
     "name": "stdout",
     "output_type": "stream",
     "text": [
      "skel_during_vor_fr_mar_dim.shape: (400, 543, 3)\n"
     ]
    }
   ],
   "source": [
    "skel_during_vor_fr_mar_dim = mediapipe_skeleton_fr_mar_xyz[vor_frame_start:vor_frame_end,:,:]\n",
    "\n",
    "for this_marker_number in range(skel_during_vor_fr_mar_dim.shape[1]):\n",
    "    skel_during_vor_fr_mar_dim[:,this_marker_number,:] = r_eyeball_center_during_vor_xyz - skel_during_vor_fr_mar_dim[:,this_marker_number,:]\n",
    "\n",
    "\n",
    "print(f'skel_during_vor_fr_mar_dim.shape: {skel_during_vor_fr_mar_dim.shape}')"
   ]
  },
  {
   "cell_type": "markdown",
   "metadata": {
    "collapsed": false,
    "pycharm": {
     "name": "#%% md\n"
    }
   },
   "source": [
    "# define error functions and run optimization\n",
    "\n",
    "according to  lines  58:68 of - [https://github.com/trentwirth/ARGP_Matlab_LaserSkeleton/blob/main/Toolbox/vorPupilAlignErrFun_eyeCam.m](https://github.com/trentwirth/ARGP_Matlab_LaserSkeleton/blob/main/Toolbox/vorPupilAlignErrFun_eyeCam.m)\n",
    "```\n",
    "\n",
    "%%\n",
    "%%%%%%% This part's important - Rotate gaze vector by [this guess at the proper alignment matrix], prior to resituating  the origin on on the eyeball\n",
    "%%%%\n",
    "\n",
    "\n",
    "for rr = 1:length(gazeXYZ)\n",
    "    \n",
    "    thisET_frame_unrot = camRotMatGuess * [gazeXYZ(rr,1); gazeXYZ(rr,2); gazeXYZ(rr,3)];\n",
    "    thisETframe = headRotMat_row_col_fr(:,:,rr) * thisET_frame_unrot;\n",
    "    \n",
    "    headOrVec(rr,:) =     headRotMat_row_col_fr(:,:,rr) * [2e3; 0;0];\n",
    "    \n",
    "    gazeXYZ(rr,:) = thisETframe;\n",
    "    \n",
    "end\n",
    "\n",
    "```\n",
    "\n",
    "we want to rotate by rotation_guess THEN by head rotation \n",
    "\n",
    "(which makes sense, since we're using the optimizer to find the rotational offset between the eye camera reference frame and the eye-in-head reference frame)\n",
    "\n"
   ]
  },
  {
   "cell_type": "markdown",
   "metadata": {
    "collapsed": false,
    "pycharm": {
     "name": "#%% md\n"
    }
   },
   "source": [
    "### optimization error animation function \n"
   ]
  },
  {
   "cell_type": "code",
   "execution_count": 30,
   "metadata": {
    "collapsed": false,
    "pycharm": {
     "name": "#%%\n"
    }
   },
   "outputs": [],
   "source": [
    "plt.close('all')\n"
   ]
  },
  {
   "cell_type": "code",
   "execution_count": 32,
   "metadata": {
    "collapsed": false,
    "pycharm": {
     "name": "#%%\n"
    }
   },
   "outputs": [
    {
     "name": "stdout",
     "output_type": "stream",
     "text": [
      "   Iteration     Total nfev        Cost      Cost reduction    Step norm     Optimality   \n",
      "       0              1         1.9160e+11                                    2.28e+11    \n",
      "       1              2         2.9245e+10      1.62e+11       1.00e+00       6.24e+10    \n",
      "       2              4         1.0953e+10      1.83e+10       5.00e-01       1.18e+10    \n",
      "       3              6         9.8908e+09      1.06e+09       2.50e-01       3.05e+09    \n",
      "       4              8         9.7599e+09      1.31e+08       6.25e-02       4.77e+08    \n",
      "       5              9         9.7498e+09      1.01e+07       6.25e-02       3.66e+08    \n",
      "       6             10         9.7457e+09      4.13e+06       1.56e-02       1.41e+08    \n",
      "       7             12         9.7451e+09      5.70e+05       3.91e-03       1.34e+08    \n",
      "       8             13         9.7447e+09      4.71e+05       3.91e-03       9.35e+07    \n",
      "       9             14         9.7438e+09      8.17e+05       7.81e-03       8.51e+07    \n",
      "      10             15         9.7437e+09      1.83e+05       1.56e-02       3.72e+08    \n",
      "      11             16         9.7423e+09      1.35e+06       3.91e-03       1.78e+08    \n",
      "      12             17         9.7417e+09      5.74e+05       7.81e-03       2.08e+08    \n",
      "      13             18         9.7411e+09      6.42e+05       7.81e-03       1.87e+08    \n",
      "      14             19         9.7404e+09      6.81e+05       7.81e-03       2.02e+08    \n",
      "      15             20         9.7397e+09      7.35e+05       7.81e-03       1.93e+08    \n",
      "      16             21         9.7389e+09      7.89e+05       7.81e-03       1.96e+08    \n",
      "      17             22         9.7380e+09      8.46e+05       7.81e-03       1.97e+08    \n",
      "      18             23         9.7371e+09      9.07e+05       7.81e-03       1.89e+08    \n",
      "      19             24         9.7362e+09      9.72e+05       7.81e-03       2.02e+08    \n",
      "      20             25         9.7351e+09      1.04e+06       7.81e-03       1.80e+08    \n",
      "      21             26         9.7340e+09      1.11e+06       7.81e-03       2.06e+08    \n",
      "      22             27         9.7328e+09      1.19e+06       7.81e-03       1.69e+08    \n",
      "      23             28         9.7316e+09      1.26e+06       7.81e-03       2.09e+08    \n",
      "      24             29         9.7302e+09      1.35e+06       7.81e-03       1.66e+08    \n",
      "      25             30         9.7288e+09      1.43e+06       7.81e-03       2.12e+08    \n",
      "      26             31         9.7273e+09      1.52e+06       7.81e-03       1.71e+08    \n",
      "      27             32         9.7248e+09      2.43e+06       1.56e-02       3.03e+08    \n",
      "      28             33         9.7234e+09      1.45e+06       1.56e-02       4.48e+08    \n",
      "      29             34         9.7217e+09      1.66e+06       3.91e-03       2.56e+08    \n",
      "      30             35         9.7199e+09      1.82e+06       7.81e-03       2.25e+08    \n",
      "      31             36         9.7180e+09      1.93e+06       7.81e-03       1.87e+08    \n",
      "      32             37         9.7142e+09      3.82e+06       1.56e-02       2.73e+08    \n",
      "      33             38         9.7128e+09      1.31e+06       3.13e-02       8.53e+08    \n",
      "      34             39         9.7072e+09      5.66e+06       7.81e-03       4.38e+08    \n",
      "      35             40         9.7039e+09      3.25e+06       1.56e-02       3.53e+08    \n",
      "      36             41         9.7008e+09      3.15e+06       1.56e-02       3.79e+08    \n",
      "      37             42         9.6974e+09      3.37e+06       1.56e-02       3.64e+08    \n",
      "      38             43         9.6939e+09      3.55e+06       1.56e-02       3.64e+08    \n",
      "      39             44         9.6901e+09      3.74e+06       1.56e-02       3.68e+08    \n",
      "      40             45         9.6862e+09      3.93e+06       1.56e-02       3.49e+08    \n",
      "      41             46         9.6821e+09      4.13e+06       1.56e-02       3.71e+08    \n",
      "      42             47         9.6777e+09      4.34e+06       1.56e-02       3.32e+08    \n",
      "      43             48         9.6732e+09      4.55e+06       1.56e-02       3.73e+08    \n",
      "      44             49         9.6684e+09      4.76e+06       1.56e-02       3.17e+08    \n",
      "      45             50         9.6634e+09      4.98e+06       1.56e-02       3.74e+08    \n",
      "      46             51         9.6582e+09      5.20e+06       1.56e-02       3.25e+08    \n",
      "      47             52         9.6528e+09      5.42e+06       1.56e-02       3.75e+08    \n",
      "      48             53         9.6471e+09      5.65e+06       1.56e-02       3.32e+08    \n",
      "      49             54         9.6413e+09      5.88e+06       1.56e-02       3.75e+08    \n",
      "      50             55         9.6320e+09      9.31e+06       3.13e-02       6.40e+08    \n",
      "      51             56         9.6270e+09      4.91e+06       3.13e-02       7.83e+08    \n",
      "      52             57         9.6207e+09      6.37e+06       7.81e-03       4.66e+08    \n",
      "      53             58         9.6141e+09      6.61e+06       1.56e-02       3.56e+08    \n",
      "      54             59         9.6072e+09      6.88e+06       1.56e-02       3.78e+08    \n",
      "      55             60         9.5943e+09      1.29e+07       3.13e-02       4.62e+08    \n",
      "      56             62         9.5872e+09      7.08e+06       1.56e-02       3.91e+08    \n",
      "      57             63         9.5798e+09      7.45e+06       1.56e-02       3.77e+08    \n",
      "      58             64         9.5652e+09      1.46e+07       3.12e-02       4.43e+08    \n",
      "      59             65         9.5596e+09      5.55e+06       6.25e-02       1.63e+09    \n",
      "      60             66         9.5390e+09      2.06e+07       1.56e-02       8.00e+08    \n",
      "      61             67         9.5284e+09      1.06e+07       3.12e-02       6.33e+08    \n",
      "      62             68         9.5180e+09      1.05e+07       3.13e-02       7.53e+08    \n",
      "      63             69         9.5071e+09      1.09e+07       3.12e-02       6.33e+08    \n",
      "      64             70         9.4959e+09      1.12e+07       3.12e-02       7.38e+08    \n",
      "      65             71         9.4844e+09      1.15e+07       3.12e-02       6.21e+08    \n",
      "      66             72         9.4726e+09      1.18e+07       3.12e-02       7.25e+08    \n",
      "      67             73         9.4604e+09      1.21e+07       3.12e-02       6.07e+08    \n",
      "      68             74         9.4479e+09      1.25e+07       3.12e-02       7.13e+08    \n",
      "      69             75         9.4352e+09      1.28e+07       3.12e-02       5.94e+08    \n",
      "      70             76         9.4221e+09      1.31e+07       3.12e-02       7.00e+08    \n",
      "      71             77         9.4086e+09      1.34e+07       3.12e-02       5.79e+08    \n",
      "      72             78         9.3949e+09      1.37e+07       3.12e-02       6.87e+08    \n",
      "      73             79         9.3808e+09      1.41e+07       3.12e-02       5.64e+08    \n",
      "      74             80         9.3664e+09      1.44e+07       3.12e-02       6.74e+08    \n",
      "      75             81         9.3517e+09      1.47e+07       3.12e-02       5.49e+08    \n",
      "      76             82         9.3367e+09      1.50e+07       3.12e-02       6.61e+08    \n",
      "      77             83         9.3213e+09      1.54e+07       3.12e-02       5.37e+08    \n",
      "      78             84         9.3056e+09      1.57e+07       3.12e-02       6.48e+08    \n",
      "      79             85         9.2896e+09      1.60e+07       3.13e-02       5.61e+08    \n",
      "      80             86         9.2733e+09      1.63e+07       3.13e-02       6.35e+08    \n",
      "      81             87         9.2567e+09      1.66e+07       3.12e-02       5.84e+08    \n",
      "      82             88         9.2397e+09      1.70e+07       3.12e-02       6.22e+08    \n",
      "      83             89         9.2224e+09      1.73e+07       3.12e-02       6.07e+08    \n",
      "      84             90         9.2048e+09      1.76e+07       3.12e-02       6.09e+08    \n",
      "      85             91         9.1869e+09      1.79e+07       3.12e-02       6.30e+08    \n",
      "      86             92         9.1687e+09      1.82e+07       3.12e-02       5.97e+08    \n",
      "      87             93         9.1502e+09      1.85e+07       3.12e-02       6.52e+08    \n",
      "      88             94         9.1313e+09      1.89e+07       3.12e-02       5.85e+08    \n",
      "      89             95         9.1121e+09      1.92e+07       3.12e-02       6.73e+08    \n",
      "      90             96         9.0926e+09      1.95e+07       3.12e-02       5.73e+08    \n",
      "      91             97         9.0728e+09      1.98e+07       3.12e-02       6.93e+08    \n",
      "      92             98         9.0527e+09      2.01e+07       3.12e-02       5.61e+08    \n",
      "      93             99         9.0323e+09      2.04e+07       3.12e-02       7.13e+08    \n",
      "      94             100        9.0116e+09      2.07e+07       3.12e-02       5.49e+08    \n",
      "      95             101        8.9906e+09      2.10e+07       3.12e-02       7.32e+08    \n",
      "      96             102        8.9693e+09      2.13e+07       3.12e-02       5.38e+08    \n",
      "      97             103        8.9476e+09      2.16e+07       3.12e-02       7.50e+08    \n",
      "      98             104        8.9257e+09      2.19e+07       3.12e-02       5.48e+08    \n",
      "      99             105        8.8951e+09      3.06e+07       6.25e-02       1.22e+09    \n",
      "      100            106        8.8807e+09      1.44e+07       6.25e-02       1.84e+09    \n",
      "      101            107        8.8554e+09      2.53e+07       1.56e-02       1.03e+09    \n",
      "      102            108        8.8321e+09      2.33e+07       3.12e-02       7.97e+08    \n",
      "      103            109        8.8089e+09      2.33e+07       3.12e-02       5.74e+08    \n",
      "      104            110        8.7740e+09      3.49e+07       6.25e-02       1.12e+09    \n",
      "      105            111        8.7594e+09      1.46e+07       6.25e-02       1.86e+09    \n",
      "      106            112        8.7334e+09      2.61e+07       1.56e-02       1.05e+09    \n",
      "      107            113        8.7090e+09      2.43e+07       3.12e-02       8.38e+08    \n",
      "      108            114        8.6847e+09      2.43e+07       3.12e-02       5.97e+08    \n",
      "      109            115        8.6468e+09      3.79e+07       6.25e-02       1.10e+09    \n",
      "      110            116        8.6318e+09      1.50e+07       6.25e-02       1.87e+09    \n",
      "      111            117        8.6053e+09      2.65e+07       1.56e-02       1.06e+09    \n",
      "      112            118        8.5803e+09      2.50e+07       3.12e-02       8.70e+08    \n",
      "      113            119        8.5554e+09      2.49e+07       3.12e-02       6.10e+08    \n",
      "      114            120        8.5163e+09      3.91e+07       6.25e-02       1.13e+09    \n",
      "      115            121        8.5017e+09      1.47e+07       6.25e-02       1.88e+09    \n",
      "      116            122        8.4748e+09      2.69e+07       1.56e-02       1.07e+09    \n",
      "      117            123        8.4498e+09      2.50e+07       3.12e-02       8.87e+08    \n",
      "      118            124        8.4251e+09      2.47e+07       3.12e-02       6.03e+08    \n",
      "      119            125        8.3879e+09      3.72e+07       6.25e-02       1.16e+09    \n",
      "      120            126        8.3750e+09      1.29e+07       6.25e-02       1.90e+09    \n",
      "      121            127        8.3479e+09      2.71e+07       1.56e-02       1.09e+09    \n",
      "      122            128        8.3237e+09      2.42e+07       3.12e-02       8.83e+08    \n",
      "      123            129        8.3004e+09      2.33e+07       3.12e-02       5.65e+08    \n",
      "      124            130        8.2699e+09      3.05e+07       6.25e-02       1.20e+09    \n",
      "      125            131        8.2591e+09      1.08e+07       6.25e-02       1.90e+09    \n",
      "      126            132        8.2322e+09      2.69e+07       1.56e-02       1.08e+09    \n",
      "      127            133        8.2102e+09      2.20e+07       3.13e-02       8.55e+08    \n",
      "      128            134        8.1900e+09      2.02e+07       3.12e-02       6.22e+08    \n",
      "      129            135        8.1708e+09      1.91e+07       3.12e-02       8.58e+08    \n",
      "      130            136        8.1527e+09      1.81e+07       3.12e-02       6.77e+08    \n",
      "      131            137        8.1356e+09      1.71e+07       3.12e-02       8.46e+08    \n",
      "      132            138        8.1195e+09      1.61e+07       3.13e-02       7.16e+08    \n",
      "      133            139        8.1044e+09      1.51e+07       3.12e-02       8.28e+08    \n",
      "      134            140        8.0902e+09      1.41e+07       3.12e-02       7.49e+08    \n",
      "      135            141        8.0771e+09      1.31e+07       3.12e-02       8.04e+08    \n",
      "      136            142        8.0650e+09      1.21e+07       3.12e-02       7.79e+08    \n",
      "      137            143        8.0538e+09      1.12e+07       3.12e-02       7.77e+08    \n",
      "      138            144        8.0436e+09      1.02e+07       3.12e-02       8.05e+08    \n",
      "      139            145        8.0343e+09      9.32e+06       3.12e-02       7.47e+08    \n",
      "      140            146        8.0258e+09      8.47e+06       3.12e-02       8.26e+08    \n",
      "      141            147        8.0181e+09      7.65e+06       3.12e-02       7.15e+08    \n",
      "      142            148        8.0119e+09      6.22e+06       7.81e-03       5.58e+08    \n",
      "      143            149        8.0056e+09      6.36e+06       1.56e-02       3.10e+08    \n",
      "      144            150        7.9994e+09      6.17e+06       1.56e-02       4.51e+08    \n",
      "      145            151        7.9916e+09      7.82e+06       3.13e-02       6.71e+08    \n",
      "      146            152        7.9909e+09      6.36e+05       3.13e-02       8.63e+08    \n",
      "      147            153        7.9840e+09      6.91e+06       7.81e-03       5.02e+08    \n",
      "      148            154        7.9793e+09      4.77e+06       1.56e-02       2.93e+08    \n",
      "      149            155        7.9758e+09      3.42e+06       1.56e-02       3.91e+08    \n",
      "      150            156        7.9731e+09      2.80e+06       1.56e-02       3.92e+08    \n",
      "      151            157        7.9706e+09      2.45e+06       1.56e-02       3.73e+08    \n",
      "      152            158        7.9685e+09      2.11e+06       1.56e-02       4.09e+08    \n",
      "      153            159        7.9667e+09      1.83e+06       1.56e-02       3.51e+08    \n",
      "      154            160        7.9651e+09      1.54e+06       3.91e-03       2.71e+08    \n",
      "      155            161        7.9636e+09      1.49e+06       7.81e-03       1.47e+08    \n",
      "      156            162        7.9622e+09      1.39e+06       7.81e-03       2.16e+08    \n",
      "      157            163        7.9610e+09      1.24e+06       7.81e-03       1.50e+08    \n",
      "      158            164        7.9599e+09      1.05e+06       7.81e-03       2.02e+08    \n",
      "      159            165        7.9591e+09      8.70e+05       7.81e-03       1.82e+08    \n",
      "      160            166        7.9583e+09      7.25e+05       7.81e-03       1.92e+08    \n",
      "      161            167        7.9577e+09      6.13e+05       7.81e-03       1.98e+08    \n",
      "      162            168        7.9572e+09      5.19e+05       7.81e-03       1.79e+08    \n",
      "      163            169        7.9568e+09      4.40e+05       7.81e-03       2.07e+08    \n",
      "      164            170        7.9564e+09      3.84e+05       1.95e-03       1.10e+08    \n",
      "      165            171        7.9560e+09      3.58e+05       3.91e-03       1.12e+08    \n",
      "      166            172        7.9557e+09      3.28e+05       3.91e-03       7.26e+07    \n",
      "      167            173        7.9554e+09      2.83e+05       3.91e-03       1.02e+08    \n",
      "      168            174        7.9552e+09      2.33e+05       3.91e-03       8.75e+07    \n",
      "      169            175        7.9550e+09      1.90e+05       3.91e-03       9.62e+07    \n",
      "      170            176        7.9548e+09      1.58e+05       3.91e-03       9.83e+07    \n",
      "      171            177        7.9547e+09      1.32e+05       3.91e-03       8.96e+07    \n",
      "      172            178        7.9546e+09      1.11e+05       3.91e-03       1.03e+08    \n",
      "      173            179        7.9545e+09      9.60e+04       9.77e-04       5.48e+07    \n",
      "      174            180        7.9544e+09      8.96e+04       1.95e-03       5.59e+07    \n",
      "      175            181        7.9543e+09      8.16e+04       1.95e-03       3.61e+07    \n",
      "      176            182        7.9543e+09      7.00e+04       1.95e-03       5.05e+07    \n",
      "      177            183        7.9542e+09      5.71e+04       1.95e-03       4.39e+07    \n",
      "      178            184        7.9542e+09      4.62e+04       1.95e-03       4.77e+07    \n",
      "      179            185        7.9541e+09      3.82e+04       1.95e-03       4.93e+07    \n",
      "      180            186        7.9541e+09      3.19e+04       1.95e-03       4.43e+07    \n",
      "      181            187        7.9541e+09      2.66e+04       1.95e-03       5.17e+07    \n",
      "      182            188        7.9540e+09      2.39e+04       4.88e-04       2.74e+07    \n",
      "      183            189        7.9540e+09      2.17e+04       9.77e-04       2.75e+07    \n",
      "      184            190        7.9540e+09      1.95e+04       9.77e-04       1.86e+07    \n",
      "      185            191        7.9540e+09      1.65e+04       9.77e-04       2.50e+07    \n",
      "      186            192        7.9540e+09      1.33e+04       9.77e-04       2.25e+07    \n",
      "      187            193        7.9540e+09      1.08e+04       9.77e-04       2.36e+07    \n",
      "      188            194        7.9539e+09      8.98e+03       9.77e-04       2.49e+07    \n",
      "      189            195        7.9539e+09      7.48e+03       9.77e-04       2.18e+07    \n",
      "      190            196        7.9539e+09      6.24e+03       9.77e-04       2.60e+07    \n",
      "      191            197        7.9539e+09      5.97e+03       2.44e-04       1.37e+07    \n",
      "      192            198        7.9539e+09      5.16e+03       4.88e-04       1.35e+07    \n",
      "      193            199        7.9539e+09      4.56e+03       4.88e-04       9.69e+06    \n",
      "      194            200        7.9539e+09      3.79e+03       4.88e-04       1.24e+07    \n",
      "      195            201        7.9539e+09      3.06e+03       4.88e-04       1.16e+07    \n",
      "      196            202        7.9539e+09      2.51e+03       4.88e-04       1.16e+07    \n",
      "      197            203        7.9539e+09      2.08e+03       4.88e-04       1.26e+07    \n",
      "      198            204        7.9539e+09      1.73e+03       4.88e-04       1.09e+07    \n",
      "      199            205        7.9539e+09      1.50e+03       1.22e-04       8.24e+06    \n",
      "      200            206        7.9539e+09      1.39e+03       2.44e-04       4.66e+06    \n",
      "      201            207        7.9539e+09      1.26e+03       2.44e-04       6.51e+06    \n",
      "      202            208        7.9539e+09      1.07e+03       2.44e-04       4.97e+06    \n",
      "      203            209        7.9539e+09      8.65e+02       2.44e-04       6.10e+06    \n",
      "      204            210        7.9539e+09      6.96e+02       2.44e-04       5.96e+06    \n",
      "      205            211        7.9539e+09      5.75e+02       2.44e-04       5.70e+06    \n",
      "      206            212        7.9539e+09      4.78e+02       2.44e-04       6.36e+06    \n",
      "      207            213        7.9539e+09      3.98e+02       2.44e-04       5.56e+06    \n",
      "      208            214        7.9539e+09      3.73e+02       6.10e-05       4.01e+06    \n",
      "      209            215        7.9539e+09      3.27e+02       1.22e-04       2.31e+06    \n",
      "      210            216        7.9539e+09      2.90e+02       1.22e-04       3.21e+06    \n",
      "      211            217        7.9539e+09      2.42e+02       1.22e-04       2.63e+06    \n",
      "      212            218        7.9539e+09      1.95e+02       1.22e-04       3.01e+06    \n",
      "      213            219        7.9539e+09      1.59e+02       1.22e-04       3.04e+06    \n",
      "      214            220        7.9539e+09      1.32e+02       1.22e-04       2.80e+06    \n",
      "      215            221        7.9539e+09      1.10e+02       1.22e-04       3.21e+06    \n",
      "      216            222        7.9539e+09      9.37e+01       3.05e-05       1.70e+06    \n",
      "      217            223        7.9539e+09      8.77e+01       6.10e-05       1.74e+06    \n",
      "      218            224        7.9539e+09      7.95e+01       6.10e-05       1.12e+06    \n",
      "`ftol` termination condition is satisfied.\n",
      "Function evaluations 224, initial cost 1.9160e+11, final cost 7.9539e+09, first-order optimality 1.12e+06.\n"
     ]
    }
   ],
   "source": [
    "\n",
    "if debug:\n",
    "    def plot_optimization_error(error,gaze_xyz, gaze_rotated_by_guess_then_head_rotation_xyz, fixation_point_in_eye_coordinates_xyz, skel_during_vor_fr_mar_dim):\n",
    "        figure_number=13451\n",
    "\n",
    "        if not plt.fignum_exists(figure_number):\n",
    "            fig = plt.figure(figure_number)\n",
    "            ax = fig.add_subplot(111, projection='3d')\n",
    "        else:\n",
    "            fig = plt.gcf()\n",
    "            ax = plt.gca()\n",
    "\n",
    "\n",
    "        fig.suptitle(f'error: {error}')\n",
    "        ax_range = 1e3\n",
    "        ax.clear() \n",
    "\n",
    "        ax.plot(0,0,0, 'mo',label='origin')\n",
    "\n",
    "        ax.plot(gaze_xyz[:,0],\n",
    "                gaze_xyz[:,1], \n",
    "                gaze_xyz[:,2],  'k-o',label='original gaze xyz')\n",
    "\n",
    "        gaze_rot_xyz  =np.array(gaze_rotated_by_guess_then_head_rotation_xyz)\n",
    "        ax.plot(gaze_rot_xyz[:,0],\n",
    "                gaze_rot_xyz[:,1], \n",
    "                gaze_rot_xyz[:,2],  'r-o',label='gaze_rotated_by_guess_then_head_rotation_xyz')\n",
    "\n",
    "        ax.plot(fixation_point_in_eye_coordinates_xyz[:,0],\n",
    "                fixation_point_in_eye_coordinates_xyz[:,1], \n",
    "                fixation_point_in_eye_coordinates_xyz[:,2],  'b-o',label='fixation_point_in_eye_coordinates_xyz')\n",
    "\n",
    "        ax.set_xlim([-ax_range, ax_range])\n",
    "        ax.set_ylim([-ax_range, ax_range])\n",
    "        ax.set_zlim([-ax_range, ax_range])\n",
    "        ax.legend()\n",
    "        plt.pause(.01)\n",
    "\n",
    "\n",
    "\n",
    "def get_error_between_two_rotation_matricies(euler_angle_guess,\n",
    "                                             gaze_xyz,\n",
    "                                             fixation_point_in_eye_coordinates_xyz,\n",
    "                                             head_rotation_maticies_fr_row_col,\n",
    "                                             skel_during_vor_fr_mar_dim):\n",
    "    #convert euler angles to rotation matrix\n",
    "    rotation_matrix_guess = Rotation.from_euler('XYZ',euler_angle_guess).as_matrix()\n",
    "\n",
    "    #rotate gaze by rotation guess\n",
    "    gaze_rotated_by_guess = [rotation_matrix_guess @ gaze_xyz[this_frame_number,:] for this_frame_number in range(gaze_xyz.shape[0])]\n",
    "\n",
    "    #...then rotate THAT by head_rotation matrix\n",
    "    gaze_rotated_by_guess_then_head_rotation_xyz =[head_rotation_maticies_fr_row_col[this_frame_number,:,:] @ gaze_rotated_by_guess[this_frame_number]\n",
    "                                                     for this_frame_number in range(gaze_xyz.shape[0])]\n",
    "\n",
    "    # mean_fixation_point_xyz = np.mean(fixation_point_in_eye_coordinates_xyz, axis=0)\n",
    "    #define error as difference between the fixation point and that rotated gaze estimate (these are both normalized, I think)\n",
    "    error_per_frame = gaze_rotated_by_guess_then_head_rotation_xyz - fixation_point_in_eye_coordinates_xyz\n",
    "    error = np.nanmean(np.nansum(error_per_frame**2)/error_per_frame.shape[0])\n",
    "    \n",
    "    plot_optimization_error(error,gaze_xyz, gaze_rotated_by_guess_then_head_rotation_xyz, fixation_point_in_eye_coordinates_xyz, skel_during_vor_fr_mar_dim)\n",
    "\n",
    "    return error\n",
    "\n",
    "\n",
    "def get_optimal_rotation_matrix_to_align_gaze_with_target(gaze_xyz,\n",
    "                                                          fixation_point_in_eye_coordinates_xyz,\n",
    "                                                          head_rotation_matricies_fr_row_col,\n",
    "                                                          skel_during_vor_fr_mar_dim):\n",
    "    euler_angles = optimize.least_squares(get_error_between_two_rotation_matricies,\n",
    "                                    [0,0,0],\n",
    "                                    args=(gaze_xyz,fixation_point_in_eye_coordinates_xyz, head_rotation_matricies_fr_row_col, skel_during_vor_fr_mar_dim),\n",
    "                                    gtol=1e-10,\n",
    "                                    verbose=2).x\n",
    "    return Rotation.from_euler('XYZ',euler_angles).as_matrix()\n",
    "\n",
    "\n",
    "######################################\n",
    "\n",
    "\n",
    "rotation_matrix_to_align_pupil_data_to_eye_in_head_coordinates = get_optimal_rotation_matrix_to_align_gaze_with_target(r_gaze_during_vor_fr_xyz,\n",
    "                                                                                fixation_point_in_r_eyeball_coordinates_fr_xyz,\n",
    "                                                                                head_rotation_matrices_during_vor_fr_row_col,\n",
    "                                                                                skel_during_vor_fr_mar_dim)\n",
    "\n",
    "r_eye_gaze_xyz_calibrated = [rotation_matrix_to_align_pupil_data_to_eye_in_head_coordinates @ r_eye_gaze_xyz[this_frame_number,:] for this_frame_number in range(r_eye_gaze_xyz.shape[0])]\n",
    "\n",
    "\n"
   ]
  },
  {
   "cell_type": "code",
   "execution_count": 33,
   "metadata": {
    "pycharm": {
     "is_executing": true,
     "name": "#%%\n"
    }
   },
   "outputs": [],
   "source": [
    "gaze_xyz_npy_save_path = pupil_data_exports_path / 'right_eye_gaze_xyz.npy'\n",
    "np.save(gaze_xyz_npy_save_path, r_eye_gaze_xyz_calibrated)"
   ]
  },
  {
   "cell_type": "code",
   "execution_count": null,
   "metadata": {
    "pycharm": {
     "is_executing": true,
     "name": "#%%\n"
    }
   },
   "outputs": [],
   "source": [
    "import plotly.offline as py\n",
    "import plotly.express as px \n",
    "import plotly.graph_objects as go\n",
    "\n",
    "fig = go.Figure()\n",
    "\n",
    "fig.add_trace(go.Scatter(x=np.arange(r_eye_gaze_xyz.shape[0]), y=r_eye_gaze_xyz[:,0], mode='lines+markers'))\n",
    "fig.add_trace(go.Scatter(x=np.arange(r_eye_gaze_xyz.shape[0]), y=r_eye_gaze_xyz[:,1], mode='lines+markers'))\n",
    "fig.add_trace(go.Scatter(x=np.arange(r_eye_gaze_xyz.shape[0]), y=r_eye_gaze_xyz[:,2], mode='lines+markers'))\n",
    "fig.show()"
   ]
  },
  {
   "cell_type": "code",
   "execution_count": null,
   "metadata": {
    "pycharm": {
     "is_executing": true,
     "name": "#%%\n"
    }
   },
   "outputs": [],
   "source": []
  }
 ],
 "metadata": {
  "interpreter": {
   "hash": "4ef2e72e5b895021b427c707c9f05b4880b5a5a00e886b84de197a42e54c7f32"
  },
  "kernelspec": {
   "display_name": "Python 3.9.12 ('humon-env')",
   "language": "python",
   "name": "python3"
  },
  "language_info": {
   "codemirror_mode": {
    "name": "ipython",
    "version": 3
   },
   "file_extension": ".py",
   "mimetype": "text/x-python",
   "name": "python",
   "nbconvert_exporter": "python",
   "pygments_lexer": "ipython3",
   "version": "3.9.12"
  },
  "orig_nbformat": 4
 },
 "nbformat": 4,
 "nbformat_minor": 2
}
